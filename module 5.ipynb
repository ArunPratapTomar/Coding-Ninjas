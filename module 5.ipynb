{
 "cells": [
  {
   "cell_type": "code",
   "execution_count": 1,
   "metadata": {},
   "outputs": [
    {
     "name": "stdout",
     "output_type": "stream",
     "text": [
      "4\n",
      "   *\n",
      "  **\n",
      " ***\n",
      "****\n"
     ]
    }
   ],
   "source": [
    "n = int(input())\n",
    "i=1\n",
    "while i<=n:\n",
    "    spaces=1\n",
    "    while spaces<=n-i:\n",
    "        print(' ',end='')\n",
    "        spaces=spaces+1\n",
    "    star=1\n",
    "    while star<=i:\n",
    "        print(\"*\",end='')\n",
    "        star=star+1\n",
    "    print()\n",
    "    i=i+1\n",
    "        "
   ]
  },
  {
   "cell_type": "code",
   "execution_count": 21,
   "metadata": {},
   "outputs": [
    {
     "name": "stdout",
     "output_type": "stream",
     "text": [
      "3\n",
      "  1\n",
      " 232\n",
      "34543\n"
     ]
    }
   ],
   "source": [
    "#divide the problem in three small sub problmes\n",
    "#spaces, increasing sequence and decreasing sequence\n",
    "n = int(input())\n",
    "i=1\n",
    "while i<=n:\n",
    "    #spaces\n",
    "    spaces=1\n",
    "    while spaces<=n-i:\n",
    "        print(' ',end='')\n",
    "        spaces=spaces+1\n",
    "    p=i\n",
    "    j=1\n",
    "    #increasing sequence\n",
    "    while j<=i:\n",
    "        print(p,end='')\n",
    "        p=p+1\n",
    "        j=j+1\n",
    "    #decreasing sequence\n",
    "    p=p-2\n",
    "    k=1\n",
    "    while k<i:\n",
    "        print(p,end='')\n",
    "        p=p-1\n",
    "        k=k+1\n",
    "    print()\n",
    "    i=i+1\n",
    "        "
   ]
  },
  {
   "cell_type": "code",
   "execution_count": 45,
   "metadata": {},
   "outputs": [
    {
     "name": "stdout",
     "output_type": "stream",
     "text": [
      "7\n",
      "   *\n",
      "  ***\n",
      " *****\n",
      "*******\n",
      " *****\n",
      "  ***\n",
      "   *\n"
     ]
    }
   ],
   "source": [
    "## Read input as specified in the question.\n",
    "## Print output as specified in the question.\n",
    "n = int(input())\n",
    "i=1\n",
    "m=n//2+1\n",
    "while i<=m:\n",
    "    #spaces\n",
    "    spaces=1\n",
    "    while spaces<=m-i:\n",
    "        print(' ',end='')\n",
    "        spaces=spaces+1\n",
    "    j=1\n",
    "    #increasing sequence\n",
    "    while j<=i:\n",
    "        print(\"*\",end='')\n",
    "        j=j+1\n",
    "    #decreasing sequence\n",
    "    p=i-1\n",
    "    while p>=1:\n",
    "        print(\"*\",end='')\n",
    "        p=p-1\n",
    "    print()\n",
    "    i=i+1\n",
    "while i<=n:\n",
    "    spaces=1\n",
    "    while spaces<=i-m:\n",
    "        print(' ',end='')\n",
    "        spaces=spaces+1\n",
    "    star=i\n",
    "    while star<=n:\n",
    "        print(\"*\",end='')\n",
    "        star = star+1\n",
    "    inv=i\n",
    "    while inv<n:\n",
    "        print(\"*\",end='')\n",
    "        inv = inv+1\n",
    "    print()\n",
    "    i=i+1"
   ]
  },
  {
   "cell_type": "code",
   "execution_count": 62,
   "metadata": {},
   "outputs": [
    {
     "name": "stdout",
     "output_type": "stream",
     "text": [
      "4\n",
      "1      1\n",
      "12    21\n",
      "123  321\n",
      "12344321\n"
     ]
    }
   ],
   "source": [
    "n = int(input())\n",
    "i=1\n",
    "while i<=n:\n",
    "    j=1\n",
    "    p=1\n",
    "    while j<=i:\n",
    "        print(p,end='')\n",
    "        j=j+1\n",
    "        p=p+1\n",
    "    spaces=1\n",
    "    while spaces<=n-i:\n",
    "        print('  ',end='')\n",
    "        spaces=spaces+1\n",
    "    star=i\n",
    "    while star>=1:\n",
    "        print(star,end='')\n",
    "        star=star-1\n",
    "    print()\n",
    "    i=i+1"
   ]
  },
  {
   "cell_type": "code",
   "execution_count": 64,
   "metadata": {},
   "outputs": [
    {
     "name": "stdout",
     "output_type": "stream",
     "text": [
      "4\n",
      "   1\n",
      "  212\n",
      " 32123\n",
      "4321234\n"
     ]
    }
   ],
   "source": [
    "n = int(input())\n",
    "i=1\n",
    "while i<=n:\n",
    "    spaces=1\n",
    "    while spaces<=n-i:\n",
    "        print(' ',end='')\n",
    "        spaces=spaces+1\n",
    "    star=i\n",
    "    while star>=1:\n",
    "        print(star,end='')\n",
    "        star=star-1\n",
    "    j=2\n",
    "    while j<=i:\n",
    "        print(j,end='')\n",
    "        j=j+1\n",
    "    print()\n",
    "    i=i+1"
   ]
  },
  {
   "cell_type": "code",
   "execution_count": 11,
   "metadata": {},
   "outputs": [
    {
     "name": "stdout",
     "output_type": "stream",
     "text": [
      "5\n",
      "* \n",
      " * * \n",
      "  * * * \n",
      " * * \n",
      "* \n"
     ]
    }
   ],
   "source": [
    "## Read input as specified in the question.\n",
    "## Print output as specified in the question.\n",
    "n = int(input())\n",
    "i=1\n",
    "n1=(n+1)/2\n",
    "n2=n//2\n",
    "while i<=n1:\n",
    "    spaces1=1\n",
    "    stars1=1\n",
    "    while spaces1<i:\n",
    "        print(\" \",end='')\n",
    "        spaces1=spaces1+1\n",
    "    while stars1<i+1:\n",
    "        print(\"* \",end='')\n",
    "        stars1=stars1+1\n",
    "    print()\n",
    "    i=i+1\n",
    "j=1\n",
    "while j<=n2:\n",
    "    spaces2=1\n",
    "    stars2=1\n",
    "    while spaces2<=n2-j:\n",
    "        print(\" \",end='')\n",
    "        spaces2=spaces2+1\n",
    "    while stars2<=n2-j+1:\n",
    "        print(\"* \",end='')\n",
    "        stars2=stars2+1\n",
    "    print()\n",
    "    j=j+1\n",
    "\n",
    "\n",
    "\n",
    "    \n",
    "    \n",
    "    "
   ]
  },
  {
   "cell_type": "code",
   "execution_count": null,
   "metadata": {},
   "outputs": [],
   "source": []
  }
 ],
 "metadata": {
  "kernelspec": {
   "display_name": "Python 3",
   "language": "python",
   "name": "python3"
  },
  "language_info": {
   "codemirror_mode": {
    "name": "ipython",
    "version": 3
   },
   "file_extension": ".py",
   "mimetype": "text/x-python",
   "name": "python",
   "nbconvert_exporter": "python",
   "pygments_lexer": "ipython3",
   "version": "3.8.5"
  }
 },
 "nbformat": 4,
 "nbformat_minor": 4
}
