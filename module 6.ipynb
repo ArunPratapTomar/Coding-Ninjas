{
 "cells": [
  {
   "cell_type": "code",
   "execution_count": 5,
   "metadata": {},
   "outputs": [
    {
     "name": "stdout",
     "output_type": "stream",
     "text": [
      "1\n",
      "10\n",
      "3\n",
      "6\n",
      "9\n"
     ]
    }
   ],
   "source": [
    "a= int(input())\n",
    "b=int(input())\n",
    "for i in range(a,b+1,1):\n",
    "    if i%3==0:\n",
    "        print(i)"
   ]
  },
  {
   "cell_type": "code",
   "execution_count": 8,
   "metadata": {},
   "outputs": [
    {
     "name": "stdout",
     "output_type": "stream",
     "text": [
      "10\n",
      "100\n",
      "12\n",
      "15\n",
      "18\n",
      "21\n",
      "24\n",
      "27\n",
      "30\n",
      "33\n",
      "36\n",
      "39\n",
      "42\n",
      "45\n",
      "48\n",
      "51\n",
      "54\n",
      "57\n",
      "60\n",
      "63\n",
      "66\n",
      "69\n",
      "72\n",
      "75\n",
      "78\n",
      "81\n",
      "84\n",
      "87\n",
      "90\n",
      "93\n",
      "96\n",
      "99\n"
     ]
    }
   ],
   "source": [
    "a= int(input())\n",
    "b=int(input())\n",
    "while a%3!=0:\n",
    "    a=a+1\n",
    "for i in range(a,b+1,3):\n",
    "        print(i)"
   ]
  },
  {
   "cell_type": "code",
   "execution_count": 9,
   "metadata": {},
   "outputs": [
    {
     "name": "stdout",
     "output_type": "stream",
     "text": [
      "10\n",
      "30\n",
      "12\n",
      "15\n",
      "18\n",
      "21\n",
      "24\n",
      "27\n",
      "30\n"
     ]
    }
   ],
   "source": [
    "a= int(input())\n",
    "b=int(input())\n",
    "if a%3==0:\n",
    "    s=a\n",
    "elif a%3==1:\n",
    "    s=a+2\n",
    "else:\n",
    "    s=a+1\n",
    "for i in range(s,b+1,3):\n",
    "        print(i)"
   ]
  },
  {
   "cell_type": "code",
   "execution_count": 15,
   "metadata": {},
   "outputs": [
    {
     "name": "stdout",
     "output_type": "stream",
     "text": [
      "10\n",
      "Not Prime\n"
     ]
    }
   ],
   "source": [
    "#check if a number is prime\n",
    "n=int(input())\n",
    "flag=False\n",
    "for d in range(2,n,1):\n",
    "    if n%d==0:\n",
    "        flag=True\n",
    "        break\n",
    "if flag:\n",
    "    print(\"Not Prime\")\n",
    "else:\n",
    "    print(\"Prime\")\n",
    "    "
   ]
  },
  {
   "cell_type": "code",
   "execution_count": 14,
   "metadata": {},
   "outputs": [
    {
     "name": "stdout",
     "output_type": "stream",
     "text": [
      "5\n",
      "    1\n",
      "   232\n",
      "  34543\n",
      " 4567654\n",
      "567898765\n"
     ]
    }
   ],
   "source": [
    "#Pattern\n",
    "n=int(input())\n",
    "for i in range(1,n+1,1):\n",
    "    for s in range(n-i):\n",
    "        print(' ',end='')\n",
    "    for inc in range(i,2*i,1):\n",
    "        print(inc,end='')\n",
    "    for dec in range(2*i-2,i-1,-1):\n",
    "        print(dec,end='')\n",
    "    print()"
   ]
  },
  {
   "cell_type": "code",
   "execution_count": 17,
   "metadata": {},
   "outputs": [
    {
     "name": "stdout",
     "output_type": "stream",
     "text": [
      "20\n",
      "2\n",
      "3\n",
      "5\n",
      "7\n",
      "11\n",
      "13\n",
      "17\n",
      "19\n"
     ]
    }
   ],
   "source": [
    "#prime numbers from 1 to n\n",
    "n=int(input())\n",
    "k=2\n",
    "while k<=n:\n",
    "    d=2\n",
    "    flag = False\n",
    "    while d<k:\n",
    "        if k%d==0:\n",
    "            flag=True\n",
    "            break\n",
    "        d=d+1\n",
    "    if(not(flag)):\n",
    "        print(k)\n",
    "    k=k+1"
   ]
  },
  {
   "cell_type": "code",
   "execution_count": 1,
   "metadata": {},
   "outputs": [
    {
     "name": "stdout",
     "output_type": "stream",
     "text": [
      "1\n",
      "2\n",
      "3\n",
      "4\n",
      "5\n",
      "6\n",
      "7\n",
      "8\n",
      "9\n",
      "this will be printed once at the end\n"
     ]
    }
   ],
   "source": [
    "i=1\n",
    "while i<10:\n",
    "    print(i)\n",
    "    i=i+1\n",
    "else:\n",
    "    print(\"this will be printed once at the end\")"
   ]
  },
  {
   "cell_type": "code",
   "execution_count": 2,
   "metadata": {},
   "outputs": [
    {
     "name": "stdout",
     "output_type": "stream",
     "text": [
      "1\n",
      "2\n",
      "3\n",
      "4\n",
      "5\n",
      "6\n",
      "7\n",
      "8\n",
      "9\n",
      "this will also be printed once at the end\n"
     ]
    }
   ],
   "source": [
    "for i in range(1,10):\n",
    "    print(i)\n",
    "else:\n",
    "    print(\"this will also be printed once at the end\")"
   ]
  },
  {
   "cell_type": "code",
   "execution_count": 4,
   "metadata": {},
   "outputs": [
    {
     "name": "stdout",
     "output_type": "stream",
     "text": [
      "10\n"
     ]
    }
   ],
   "source": [
    "  n=int(input())\n",
    "#flag=False\n",
    "for d in range(2,n,1):\n",
    "    if n%d==0:\n",
    "  #      flag=True\n",
    "        break\n",
    "else:\n",
    "    print(\"it is prime\")\n",
    "#if flag:\n",
    " #   print(\"Not Prime\")\n",
    "#else:\n",
    " #   print(\"Prime\")"
   ]
  },
  {
   "cell_type": "code",
   "execution_count": 6,
   "metadata": {},
   "outputs": [
    {
     "name": "stdout",
     "output_type": "stream",
     "text": [
      "1\n",
      "2\n",
      "4\n",
      "5\n",
      "7\n",
      "8\n",
      "10\n",
      "11\n",
      "13\n",
      "14\n",
      "16\n",
      "17\n",
      "19\n",
      "20\n",
      "22\n",
      "23\n",
      "25\n",
      "26\n",
      "28\n",
      "29\n"
     ]
    }
   ],
   "source": [
    "for i in range(1,31):\n",
    "    if i%3==0:\n",
    "        continue\n",
    "    print(i)"
   ]
  },
  {
   "cell_type": "code",
   "execution_count": 8,
   "metadata": {},
   "outputs": [
    {
     "name": "stdout",
     "output_type": "stream",
     "text": [
      "30\n",
      "2\n",
      "2\n",
      "4\n",
      "4\n",
      "6\n",
      "6\n",
      "8\n",
      "8\n",
      "10\n",
      "10\n",
      "12\n",
      "12\n",
      "14\n",
      "16\n",
      "16\n",
      "18\n",
      "18\n",
      "20\n",
      "20\n",
      "22\n",
      "22\n",
      "24\n",
      "24\n",
      "26\n",
      "26\n",
      "28\n",
      "30\n",
      "30\n"
     ]
    }
   ],
   "source": [
    "n = int(input())\n",
    "for i in range(2,n+1,2):\n",
    "    print(i)\n",
    "    if i%7==0:\n",
    "        continue\n",
    "    print(i)"
   ]
  },
  {
   "cell_type": "code",
   "execution_count": 9,
   "metadata": {},
   "outputs": [],
   "source": [
    "i=3\n",
    "if i<7:\n",
    "    pass"
   ]
  },
  {
   "cell_type": "code",
   "execution_count": 40,
   "metadata": {},
   "outputs": [
    {
     "name": "stdout",
     "output_type": "stream",
     "text": [
      "3\n",
      "123\n",
      " 23\n",
      "  3\n",
      " 23\n",
      "123\n"
     ]
    }
   ],
   "source": [
    "n = int(input())\n",
    "for i in range(1,n+1,1):\n",
    "    spaces=' '\n",
    "    for j in range(1,i):\n",
    "        print(spaces,end='')\n",
    "    for j in range(i,n+1):\n",
    "        print(j,end='')\n",
    "    print()\n",
    "for i in range(1,n,1):\n",
    "    spaces=' '\n",
    "    for j in range(n,i+1,-1):\n",
    "        print(spaces,end='')\n",
    "    for j in range(n-i,n+1):\n",
    "        print(j,end='')\n",
    "    print()"
   ]
  },
  {
   "cell_type": "code",
   "execution_count": null,
   "metadata": {},
   "outputs": [],
   "source": [
    "n=int(input())\n",
    "for i in range(1,)"
   ]
  },
  {
   "cell_type": "code",
   "execution_count": 49,
   "metadata": {},
   "outputs": [
    {
     "name": "stdout",
     "output_type": "stream",
     "text": [
      "3\n",
      "3333333333333333\n",
      "22222222\n",
      "1\n"
     ]
    }
   ],
   "source": [
    "n=int(input())\n",
    "size=2*n-1\n",
    "front=0\n",
    "back=size-1\n",
    "while(n!=0):\n",
    "    for i in range(front,back+1):\n",
    "        for j in range(front,back+1):\n",
    "            if(i==front or i==back or j==front or j==back):\n",
    "                print(n,end='')\n",
    "    print()\n",
    "    front+=1\n",
    "    back-=1\n",
    "    n-=1"
   ]
  },
  {
   "cell_type": "code",
   "execution_count": 50,
   "metadata": {},
   "outputs": [
    {
     "name": "stdout",
     "output_type": "stream",
     "text": [
      "4444444\n",
      "4333334\n",
      "4322234\n",
      "4321234\n",
      "4322234\n",
      "4333334\n",
      "4444444\n"
     ]
    }
   ],
   "source": [
    "# Python3 Program to print rectangular\n",
    "# inner reducing pattern\n",
    "MAX = 100\n",
    "\n",
    "# function to Print pattern\n",
    "def prints(a, size):\n",
    "\tfor i in range(size):\n",
    "\t\tfor j in range(size):\n",
    "\t\t\tprint(a[i][j], end = '')\n",
    "\t\tprint()\n",
    "\n",
    "# function to compute pattern\n",
    "def innerPattern(n):\n",
    "\t\n",
    "\t# Pattern Size\n",
    "\tsize = 2 * n - 1\n",
    "\tfront = 0\n",
    "\tback = size - 1\n",
    "\ta = [[0 for i in range(MAX)]\n",
    "\t\t\tfor i in range(MAX)]\n",
    "\twhile (n != 0):\n",
    "\t\tfor i in range(front, back + 1):\n",
    "\t\t\tfor j in range(front, back + 1):\n",
    "\t\t\t\tif (i == front or i == back or\n",
    "\t\t\t\t\tj == front or j == back):\n",
    "\t\t\t\t\ta[i][j] = n\n",
    "\t\tfront += 1\n",
    "\t\tback -= 1\n",
    "\t\tn -= 1\n",
    "\tprints(a, size);\n",
    "\n",
    "# Driver code\n",
    "\n",
    "# Input\n",
    "n = 4\n",
    "\n",
    "# function calling\n",
    "innerPattern(n)\n",
    "\n",
    "# This code is contributed\n",
    "# by sahishelangia\n"
   ]
  },
  {
   "cell_type": "code",
   "execution_count": 72,
   "metadata": {},
   "outputs": [
    {
     "name": "stdout",
     "output_type": "stream",
     "text": [
      "33333\n",
      "33\n",
      "33\n",
      "33\n",
      "33333\n",
      "222\n",
      "22\n",
      "222\n",
      "1\n"
     ]
    }
   ],
   "source": [
    "def innerPattern(n):\n",
    "    # Pattern Size\n",
    "    size = 2 * n - 1\n",
    "    front = 0\n",
    "    back = size - 1\n",
    "    a = [[0 for i in range(MAX)]\n",
    "         for i in range(MAX)]\n",
    "    while (n != 0):\n",
    "        for i in range(front, back + 1):\n",
    "            for j in range(front, back + 1):\n",
    "                if (i == front or i == back or j == front or j == back):\n",
    "                    print(n,end='')\n",
    "            print()\n",
    "                    #print(n,end='')\n",
    "        front += 1\n",
    "        back -= 1\n",
    "        n -= 1\n",
    "innerPattern(3)"
   ]
  },
  {
   "cell_type": "code",
   "execution_count": 4,
   "metadata": {},
   "outputs": [
    {
     "name": "stdout",
     "output_type": "stream",
     "text": [
      "4\n",
      "4444444\n",
      "4333334\n",
      "4333334\n",
      "4333334\n",
      "4333334\n",
      "4333334\n",
      "4444444\n"
     ]
    }
   ],
   "source": [
    "## Read input as specified in the question.\n",
    "## Print output as specified in the question.\n",
    "n= int(input())\n",
    "rows = 2*n-1\n",
    "columns = 2*n-1\n",
    "for i in range(1,rows+1,1):\n",
    "    for j in range(1,columns+1,1):\n",
    "        if i==1 or j==1 or i==rows or j==columns:\n",
    "            print(n,end='')\n",
    "        else:\n",
    "            print(3,end='')\n",
    "    print()"
   ]
  },
  {
   "cell_type": "code",
   "execution_count": 11,
   "metadata": {},
   "outputs": [
    {
     "name": "stdout",
     "output_type": "stream",
     "text": [
      "4\n",
      "4444\n",
      "4333\n",
      "4322\n",
      "4321\n"
     ]
    }
   ],
   "source": [
    "n= int(input())\n",
    "for i in range(1,n+1,1):\n",
    "    j=n\n",
    "    while(j!=n-i+1):\n",
    "        print(j,end='')\n",
    "        j=j-1\n",
    "    else:\n",
    "        for i in range(0,n-i+1):\n",
    "            print(j,end='')\n",
    "    print()"
   ]
  },
  {
   "cell_type": "code",
   "execution_count": 14,
   "metadata": {},
   "outputs": [
    {
     "name": "stdout",
     "output_type": "stream",
     "text": [
      "4\n",
      "444\n",
      "344\n",
      "234\n",
      "123\n"
     ]
    }
   ],
   "source": [
    "n= int(input())\n",
    "for i in range(1,n+1,1):\n",
    "    j=n-i+1\n",
    "    while(j!=n):\n",
    "        print(j,end='')\n",
    "        j=j+1\n",
    "    else:\n",
    "        for i in range(0,n-i):\n",
    "            print(j,end='')\n",
    "    print()"
   ]
  },
  {
   "cell_type": "code",
   "execution_count": 16,
   "metadata": {},
   "outputs": [
    {
     "name": "stdout",
     "output_type": "stream",
     "text": [
      "4\n",
      "1 2 3 4 \n",
      "9 10 11 12 \n",
      "13 14 15 16 \n",
      "5 6 7 8 \n"
     ]
    }
   ],
   "source": [
    "n = int(input())\n",
    "\n",
    "for i in range(n//2):\n",
    "\n",
    "   for j in range(1,n+1):\n",
    "\n",
    "       print(n*2*i + j ,end = \" \");\n",
    "\n",
    "   print()\n",
    "\n",
    "for i in range(n//2,0,-1):\n",
    "\n",
    "   for j in range(1,n+1):\n",
    "\n",
    "       print(n*(2*i-1) + j , end = \" \")\n",
    "\n",
    "   print()"
   ]
  },
  {
   "cell_type": "code",
   "execution_count": null,
   "metadata": {},
   "outputs": [],
   "source": [
    "## Read input as specified in the question.\n",
    "## Print output as specified in the question.\n",
    "\n",
    "#upper left quarter\n",
    "n= int(input())\n",
    "for i in range(1,n+1,1):\n",
    "    j=n\n",
    "    while(j!=n-i+1):\n",
    "        print(j,end='')\n",
    "        j=j-1\n",
    "    else:\n",
    "        for i in range(0,n-i+1):\n",
    "            print(j,end='')\n",
    "    print()\n",
    "\n",
    "#upper right quarter\n",
    "for i in range(1,n+1,1):\n",
    "    j=n-i+1\n",
    "    while(j!=n):\n",
    "        print(j,end='')\n",
    "        j=j+1\n",
    "    else:\n",
    "        for i in range(0,n-i):\n",
    "            print(j,end='')\n",
    "    print()\n",
    "# i am getting answer as\n",
    "# 444\n",
    "# 344\n",
    "# 234\n",
    "# 123\n",
    "# but i should get\n",
    "# 444\n",
    "# 334\n",
    "# 234\n",
    "# 234"
   ]
  }
 ],
 "metadata": {
  "kernelspec": {
   "display_name": "Python 3",
   "language": "python",
   "name": "python3"
  },
  "language_info": {
   "codemirror_mode": {
    "name": "ipython",
    "version": 3
   },
   "file_extension": ".py",
   "mimetype": "text/x-python",
   "name": "python",
   "nbconvert_exporter": "python",
   "pygments_lexer": "ipython3",
   "version": "3.8.5"
  }
 },
 "nbformat": 4,
 "nbformat_minor": 4
}
