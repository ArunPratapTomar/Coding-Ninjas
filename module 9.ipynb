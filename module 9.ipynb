{
 "cells": [
  {
   "cell_type": "markdown",
   "metadata": {},
   "source": [
    "## Binary Search"
   ]
  },
  {
   "cell_type": "code",
   "execution_count": 1,
   "metadata": {},
   "outputs": [
    {
     "name": "stdout",
     "output_type": "stream",
     "text": [
      "-1\n"
     ]
    }
   ],
   "source": [
    "def binarySearch(arr, n, x) :\n",
    "    start=0\n",
    "    end=n-1\n",
    "    while(start<=end):\n",
    "        mid = (start+end)//2\n",
    "        if arr[mid]>x:\n",
    "            end=mid-1\n",
    "        if arr[mid]<x:\n",
    "            start=mid+1\n",
    "        if arr[mid]==x:\n",
    "            return mid\n",
    "    else:\n",
    "        return -1\n",
    "arr=[1,3,7,18,20,21,28,32]\n",
    "bn=binarySearch(arr,8,27)\n",
    "print(bn)"
   ]
  },
  {
   "cell_type": "markdown",
   "metadata": {},
   "source": [
    "## Selection Sort"
   ]
  },
  {
   "cell_type": "code",
   "execution_count": 3,
   "metadata": {},
   "outputs": [
    {
     "name": "stdout",
     "output_type": "stream",
     "text": [
      "[0, 1, 2, 3, 4, 6, 8]\n"
     ]
    }
   ],
   "source": [
    "def selectionSort(arr):\n",
    "    length=len(arr)\n",
    "    for i in range(length-1):\n",
    "        minIndex=i\n",
    "        for j in range(i+1,length):\n",
    "            if (arr[j]<arr[minIndex]):\n",
    "                minIndex=j;\n",
    "        arr[i],arr[minIndex]=arr[minIndex],arr[i]\n",
    "arr=[1,3,2,4,0,6,8]\n",
    "selectionSort(arr)\n",
    "print(arr)"
   ]
  },
  {
   "cell_type": "markdown",
   "metadata": {},
   "source": [
    "## Bubble Sort"
   ]
  },
  {
   "cell_type": "code",
   "execution_count": 3,
   "metadata": {},
   "outputs": [
    {
     "name": "stdout",
     "output_type": "stream",
     "text": [
      "[1, 2, 3, 4, 6, 8]\n"
     ]
    }
   ],
   "source": [
    "def bubbleSort(arr, n) :\n",
    "    for i in range(n-1):\n",
    "        for j in range(n-i-1):\n",
    "            if arr[j]>arr[j+1]:\n",
    "                arr[j],arr[j+1]=arr[j+1],arr[j]\n",
    "    return arr\n",
    "arr = [6,4,8,3,1,2]\n",
    "bubbleSort(arr,6)\n",
    "print(arr)"
   ]
  },
  {
   "cell_type": "markdown",
   "metadata": {},
   "source": [
    "## Insertion Sort"
   ]
  },
  {
   "cell_type": "code",
   "execution_count": 7,
   "metadata": {},
   "outputs": [
    {
     "name": "stdout",
     "output_type": "stream",
     "text": [
      "[1, 5, 6, 7, 8, 9]\n"
     ]
    }
   ],
   "source": [
    "def insertionSort(arr):\n",
    "    length = len(arr)\n",
    "    for i in range(1,length):\n",
    "        j=i-1\n",
    "        temp = arr[i]\n",
    "        while(j>=0 and arr[j]>temp):\n",
    "            arr[j+1]=arr[j]\n",
    "            j=j-1\n",
    "        arr[j+1]=temp\n",
    "    return arr\n",
    "arr= [9,8,5,6,7,1]\n",
    "insertionSort(arr)\n",
    "print(arr)"
   ]
  },
  {
   "cell_type": "markdown",
   "metadata": {},
   "source": [
    "## Merge two sorted arrays"
   ]
  },
  {
   "cell_type": "code",
   "execution_count": 14,
   "metadata": {},
   "outputs": [
    {
     "name": "stdout",
     "output_type": "stream",
     "text": [
      "[1, 2, 3, 6, 8, 11, 12, 12, 16, 17, 19]\n"
     ]
    }
   ],
   "source": [
    "arr1=[1,3,6,11,12,17]\n",
    "arr2=[2,8,12,16,19]\n",
    "arr3=[]\n",
    "i=0\n",
    "j=0\n",
    "while(i<len(arr1) and j<len(arr2)):\n",
    "    if arr1[i]<arr2[j]:\n",
    "        arr3.append(arr1[i])\n",
    "        i=i+1\n",
    "    else:\n",
    "        arr3.append(arr2[j])\n",
    "        j=j+1\n",
    "while(j==len(arr2) and i<len(arr1)):\n",
    "    arr3.append(arr1[i])\n",
    "    i=i+1\n",
    "while(i==len(arr1) and j<len(arr2)):\n",
    "    arr3.append(arr2[j])\n",
    "    j=j+1\n",
    "print(arr3)"
   ]
  },
  {
   "cell_type": "markdown",
   "metadata": {},
   "source": [
    "## Push Zero to End"
   ]
  },
  {
   "cell_type": "code",
   "execution_count": 21,
   "metadata": {},
   "outputs": [
    {
     "ename": "IndexError",
     "evalue": "list index out of range",
     "output_type": "error",
     "traceback": [
      "\u001b[1;31m---------------------------------------------------------------------------\u001b[0m",
      "\u001b[1;31mIndexError\u001b[0m                                Traceback (most recent call last)",
      "\u001b[1;32m<ipython-input-21-64523416c400>\u001b[0m in \u001b[0;36m<module>\u001b[1;34m\u001b[0m\n\u001b[0;32m      6\u001b[0m     \u001b[1;32mif\u001b[0m\u001b[1;33m(\u001b[0m\u001b[0marr\u001b[0m\u001b[1;33m[\u001b[0m\u001b[0mi\u001b[0m\u001b[1;33m]\u001b[0m\u001b[1;33m==\u001b[0m\u001b[1;36m0\u001b[0m\u001b[1;33m)\u001b[0m\u001b[1;33m:\u001b[0m\u001b[1;33m\u001b[0m\u001b[1;33m\u001b[0m\u001b[0m\n\u001b[0;32m      7\u001b[0m         \u001b[0mj\u001b[0m\u001b[1;33m=\u001b[0m\u001b[0mi\u001b[0m\u001b[1;33m+\u001b[0m\u001b[1;36m1\u001b[0m\u001b[1;33m\u001b[0m\u001b[1;33m\u001b[0m\u001b[0m\n\u001b[1;32m----> 8\u001b[1;33m         \u001b[1;32mwhile\u001b[0m\u001b[1;33m(\u001b[0m\u001b[0marr\u001b[0m\u001b[1;33m[\u001b[0m\u001b[0mj\u001b[0m\u001b[1;33m]\u001b[0m\u001b[1;33m==\u001b[0m\u001b[1;36m0\u001b[0m \u001b[1;32mand\u001b[0m \u001b[0mj\u001b[0m\u001b[1;33m<\u001b[0m\u001b[0mlen\u001b[0m\u001b[1;33m(\u001b[0m\u001b[0marr\u001b[0m\u001b[1;33m)\u001b[0m\u001b[1;33m)\u001b[0m\u001b[1;33m:\u001b[0m\u001b[1;33m\u001b[0m\u001b[1;33m\u001b[0m\u001b[0m\n\u001b[0m\u001b[0;32m      9\u001b[0m             \u001b[0mj\u001b[0m\u001b[1;33m=\u001b[0m\u001b[0mj\u001b[0m\u001b[1;33m+\u001b[0m\u001b[1;36m1\u001b[0m\u001b[1;33m\u001b[0m\u001b[1;33m\u001b[0m\u001b[0m\n\u001b[0;32m     10\u001b[0m         \u001b[0marr\u001b[0m\u001b[1;33m[\u001b[0m\u001b[0mi\u001b[0m\u001b[1;33m]\u001b[0m\u001b[1;33m,\u001b[0m\u001b[0marr\u001b[0m\u001b[1;33m[\u001b[0m\u001b[0mj\u001b[0m\u001b[1;33m]\u001b[0m\u001b[1;33m=\u001b[0m\u001b[0marr\u001b[0m\u001b[1;33m[\u001b[0m\u001b[0mj\u001b[0m\u001b[1;33m]\u001b[0m\u001b[1;33m,\u001b[0m\u001b[0marr\u001b[0m\u001b[1;33m[\u001b[0m\u001b[0mi\u001b[0m\u001b[1;33m]\u001b[0m\u001b[1;33m\u001b[0m\u001b[1;33m\u001b[0m\u001b[0m\n",
      "\u001b[1;31mIndexError\u001b[0m: list index out of range"
     ]
    }
   ],
   "source": [
    "arr=[2,0,0,1,3,0,0]\n",
    "i=0\n",
    "while(arr[i]!=0):\n",
    "    i=i+1\n",
    "while(i<len(arr)):\n",
    "    if(arr[i]==0):\n",
    "        j=i+1\n",
    "        while(arr[j]==0 and j<len(arr)):\n",
    "            j=j+1\n",
    "        arr[i],arr[j]=arr[j],arr[i]\n",
    "    i=i+1\n",
    "print(arr)"
   ]
  },
  {
   "cell_type": "code",
   "execution_count": 41,
   "metadata": {},
   "outputs": [
    {
     "name": "stdout",
     "output_type": "stream",
     "text": [
      "[5, 8, 7, 4, 3, 1]\n"
     ]
    }
   ],
   "source": [
    "def pushZerosAtEnd(arr, n):\n",
    "    i=0\n",
    "    k=0\n",
    "    while(i<n-1 and k<n-1):\n",
    "        while(arr[i]!=0 and arr[k]!=0 and i<n-1 and k<n-1):\n",
    "            i=i+1\n",
    "            k=k+1\n",
    "        while(arr[i]==0 and i<n-1):\n",
    "            i=i+1\n",
    "        arr[i],arr[k]=arr[k],arr[i]\n",
    "        k=k+1\n",
    "        i=i+1\n",
    "    return arr\n",
    "arr=[5,8,7,4,3,1]\n",
    "pushZerosAtEnd(arr,6)\n",
    "print(arr)"
   ]
  },
  {
   "cell_type": "code",
   "execution_count": 47,
   "metadata": {},
   "outputs": [
    {
     "name": "stdout",
     "output_type": "stream",
     "text": [
      "[3, 4, 5, 6, 7, 1, 2]\n"
     ]
    }
   ],
   "source": [
    "def rotateLeft(arr,d):\n",
    "    j=0\n",
    "    k=0\n",
    "    while(j<d):\n",
    "        temp=arr[k]\n",
    "        i=0\n",
    "        while(i<len(arr)-1):\n",
    "            arr[i]=arr[i+1]\n",
    "            i=i+1\n",
    "        arr[i]=temp\n",
    "        j=j+1\n",
    "    return arr\n",
    "arr=[1,2,3,4,5,6,7]\n",
    "rotateLeft(arr,2)\n",
    "print(arr)"
   ]
  },
  {
   "cell_type": "code",
   "execution_count": 44,
   "metadata": {},
   "outputs": [
    {
     "name": "stdout",
     "output_type": "stream",
     "text": [
      "[1, 2, 3, 4, 9, 8, 0, 0, 0, 0, 0]\n"
     ]
    }
   ],
   "source": [
    "def pushZerosAtEnd(arr, n) :\n",
    "    i=0\n",
    "    k=0\n",
    "    while(i<n-1):\n",
    "        if arr[i]!=0:\n",
    "            arr[i],arr[k]=arr[k],arr[i]\n",
    "            k=k+1\n",
    "        i=i+1\n",
    "    return arr\n",
    "arr=[1,2,3,4,0,9,0,8,0,0,0]\n",
    "pushZerosAtEnd(arr, 11)\n",
    "print(arr)"
   ]
  },
  {
   "cell_type": "code",
   "execution_count": 64,
   "metadata": {},
   "outputs": [
    {
     "name": "stdout",
     "output_type": "stream",
     "text": [
      "[3, 4, 5, 6, 7, 1, 2]\n"
     ]
    }
   ],
   "source": [
    "def rotateLeft(arr,n,d):\n",
    "    ext=[]\n",
    "    for i in range(d):\n",
    "        ext.append(arr[i])\n",
    "    for i in range(n-d):\n",
    "        arr[i]=arr[i+d]\n",
    "    for i in range(n-d,n):\n",
    "        arr[i]=ext[n-i-2]\n",
    "arr=[1,2,3,4,5,6,7]\n",
    "rotateLeft(arr,7,2)\n",
    "print(arr)"
   ]
  },
  {
   "cell_type": "code",
   "execution_count": 100,
   "metadata": {},
   "outputs": [
    {
     "name": "stdout",
     "output_type": "stream",
     "text": [
      "[5, 4, 3, 2, 1]\n",
      "[3, 4, 5]\n",
      "[1, 2]\n"
     ]
    }
   ],
   "source": [
    "arr=[1,2,3,4,5]\n",
    "arr = arr[::-1]\n",
    "print(arr)\n",
    "a=len(arr)-2\n",
    "b=len(arr)\n",
    "arr1=arr[a-1::-1]\n",
    "arr2=arr[b-1:a-1:-1]\n",
    "print(arr1)\n",
    "print(arr2)"
   ]
  },
  {
   "cell_type": "code",
   "execution_count": 101,
   "metadata": {},
   "outputs": [
    {
     "data": {
      "text/plain": [
       "[3, 4, 5, 1, 2]"
      ]
     },
     "execution_count": 101,
     "metadata": {},
     "output_type": "execute_result"
    }
   ],
   "source": [
    "arr1+arr2"
   ]
  },
  {
   "cell_type": "code",
   "execution_count": 108,
   "metadata": {},
   "outputs": [
    {
     "name": "stdout",
     "output_type": "stream",
     "text": [
      "[12, 17, 1, 3, 6, 11]\n"
     ]
    }
   ],
   "source": [
    "def rotate(arr, n, d):\n",
    "   # ext=[]\n",
    "    #for i in range(d):\n",
    "     #   ext.append(arr[i])\n",
    "    #for i in range(n-d):\n",
    "     #   arr[i]=arr[i+d]\n",
    "    #for i in range(n-d,n):\n",
    "     #   arr[i]=ext[i+d-n]\n",
    "    arr = arr[::-1]\n",
    "    a=n-d\n",
    "    arr1=arr[a-1::-1]\n",
    "    arr2=arr[n-1:a-1:-1]\n",
    "    arr3=arr1+arr2\n",
    "    return arr3\n",
    "arr=[1,3,6,11,12,17]\n",
    "ar=rotate(arr,6,4)\n",
    "print(ar)"
   ]
  },
  {
   "cell_type": "code",
   "execution_count": 128,
   "metadata": {},
   "outputs": [
    {
     "name": "stdout",
     "output_type": "stream",
     "text": [
      "-2147483648\n"
     ]
    }
   ],
   "source": [
    "def bubbleSort(arr, n) :\n",
    "    if n<=1:\n",
    "        return -2147483648\n",
    "    else:\n",
    "        for i in range(n-1):\n",
    "            for j in range(n-i-1):\n",
    "                if arr[j]>=arr[j+1]:\n",
    "                    arr[j],arr[j+1]=arr[j+1],arr[j]\n",
    "        for i in range(n):\n",
    "            if(arr[i]==arr[n-1]):\n",
    "                break\n",
    "        if(i==0):\n",
    "            return -2147483648\n",
    "        return arr[i-1]\n",
    "        #return arr\n",
    "arr = [1,1,1,1,1,1]\n",
    "ar=bubbleSort(arr,6)\n",
    "print(ar)"
   ]
  },
  {
   "cell_type": "code",
   "execution_count": 144,
   "metadata": {},
   "outputs": [
    {
     "name": "stdout",
     "output_type": "stream",
     "text": [
      "-2147483648\n"
     ]
    }
   ],
   "source": [
    "def bubbleSort(arr, n) :\n",
    "    if n<=1:\n",
    "        return -2147483648\n",
    "    else:\n",
    "        for i in range(1,n):\n",
    "            j=i-1\n",
    "            temp = arr[i]\n",
    "            while(j>=0 and arr[j]>temp):\n",
    "                arr[j+1]=arr[j]\n",
    "                j=j-1\n",
    "            arr[j+1]=temp\n",
    "        for i in range(n-2,-1,-1):\n",
    "            if(arr[i]!=arr[n-1]):\n",
    "                break\n",
    "        if(i==0):\n",
    "            return -2147483648\n",
    "        return arr[i]\n",
    "        #return arr\n",
    "arr = [2,2,1,2,2,2]\n",
    "ar=bubbleSort(arr,6)\n",
    "print(ar)"
   ]
  },
  {
   "cell_type": "code",
   "execution_count": 11,
   "metadata": {},
   "outputs": [
    {
     "name": "stdout",
     "output_type": "stream",
     "text": [
      "-2147483648\n"
     ]
    }
   ],
   "source": [
    "def secondLargestElement(arr,n):\n",
    "    l=-2147483648\n",
    "    s=-2147483648\n",
    "    for i in range(n):\n",
    "        if(arr[i]>l):\n",
    "            s=l\n",
    "            l=arr[i]\n",
    "        elif(arr[i]<l and arr[i]>s):\n",
    "            s=arr[i]\n",
    "    return s\n",
    "arr=[6,6,6,6]\n",
    "b=secondLargestElement(arr,4)\n",
    "print(b)"
   ]
  },
  {
   "cell_type": "code",
   "execution_count": 20,
   "metadata": {},
   "outputs": [
    {
     "name": "stdout",
     "output_type": "stream",
     "text": [
      "3\n"
     ]
    }
   ],
   "source": [
    "def arrayRotateCheck(arr, n):\n",
    "    count=1\n",
    "    for i in range(n-1):\n",
    "        if(arr[i]<arr[i+1]):\n",
    "            count=count+1\n",
    "        else:\n",
    "            break\n",
    "    if(count==n):\n",
    "        return 0\n",
    "    else:\n",
    "        return count\n",
    "arr=[10,20,30,1]\n",
    "c=arrayRotateCheck(arr,6)\n",
    "print(c)"
   ]
  },
  {
   "cell_type": "code",
   "execution_count": 30,
   "metadata": {},
   "outputs": [
    {
     "name": "stdout",
     "output_type": "stream",
     "text": [
      "[0, 0, 0, 1, 1, 2, 2]\n"
     ]
    }
   ],
   "source": [
    "def sort012(arr, n) :\n",
    "    i=0\n",
    "    nz=0\n",
    "    nt=n-1\n",
    "    while(i<n):\n",
    "        if(arr[i]==0):\n",
    "            arr[i],arr[nz]=arr[nz],arr[i]\n",
    "            nz=nz+1\n",
    "        elif(arr[i]==2 and i<nt):\n",
    "            arr[i],arr[nt]=arr[nt],arr[i]\n",
    "            nt=nt-1\n",
    "            if(arr[i]==0):\n",
    "                arr[i],arr[nz]=arr[nz],arr[i]\n",
    "                nz=nz+1\n",
    "        i=i+1\n",
    "    return arr\n",
    "arr=[0,1,2,0,1,2,0]\n",
    "sort012(arr,7)\n",
    "print(arr)"
   ]
  },
  {
   "cell_type": "code",
   "execution_count": 43,
   "metadata": {},
   "outputs": [
    {
     "name": "stdout",
     "output_type": "stream",
     "text": [
      "[0, 0, 1, 1, 0, 1, 2, 2]\n"
     ]
    }
   ],
   "source": [
    "def sort012(arr, n) :\n",
    "    i=0\n",
    "    nz=0\n",
    "    nt=n-1\n",
    "    while(i<n-1):\n",
    "        if(arr[i]==1):\n",
    "            i=i+1\n",
    "        elif(arr[i]==0):\n",
    "            arr[i],arr[nz]=arr[nz],arr[i]\n",
    "            nz=nz+1\n",
    "            i=i+1\n",
    "        if(arr[i]==2 and i<nt):\n",
    "            arr[i],arr[nt]=arr[nt],arr[i]\n",
    "            nt=nt-1\n",
    "        else:\n",
    "            i=i+1\n",
    "    return arr\n",
    "arr=[1,0,2,1,0,1,2,0]\n",
    "sort012(arr,8)\n",
    "print(arr)"
   ]
  },
  {
   "cell_type": "code",
   "execution_count": 44,
   "metadata": {},
   "outputs": [
    {
     "name": "stdout",
     "output_type": "stream",
     "text": [
      "[0, 0, 0, 1, 1, 2, 2]\n"
     ]
    }
   ],
   "source": [
    "\n",
    "def sort012(arr, n) :\n",
    "    i=0\n",
    "    nz=0\n",
    "    nt=n-1\n",
    "    while(i<n):\n",
    "        if(arr[i]==0):\n",
    "            arr[i],arr[nz]=arr[nz],arr[i]\n",
    "            nz=nz+1\n",
    "        elif(arr[i]==2 and i<nt):\n",
    "            arr[i],arr[nt]=arr[nt],arr[i]\n",
    "            nt=nt-1\n",
    "            if(arr[i]==0):\n",
    "                arr[i],arr[nz]=arr[nz],arr[i]\n",
    "                nz=nz+1\n",
    "        i=i+1\n",
    "    return arr\n",
    "arr=[0,1,2,0,1,2,0]\n",
    "sort012(arr,7)\n",
    "print(arr)"
   ]
  },
  {
   "cell_type": "code",
   "execution_count": 45,
   "metadata": {},
   "outputs": [
    {
     "ename": "IndentationError",
     "evalue": "expected an indented block (<ipython-input-45-902d25b2be54>, line 8)",
     "output_type": "error",
     "traceback": [
      "\u001b[1;36m  File \u001b[1;32m\"<ipython-input-45-902d25b2be54>\"\u001b[1;36m, line \u001b[1;32m8\u001b[0m\n\u001b[1;33m    for j in range(m,-1):\u001b[0m\n\u001b[1;37m    ^\u001b[0m\n\u001b[1;31mIndentationError\u001b[0m\u001b[1;31m:\u001b[0m expected an indented block\n"
     ]
    }
   ],
   "source": [
    "def sumOfTwoArrays(arr1, n, arr2, m, output) :\n",
    "    if n>m:\n",
    "        o=n+1\n",
    "    else:\n",
    "        o=m+1\n",
    "    carry=0\n",
    "    for i in range(n,-1):\n",
    "    for j in range(m,-1):\n",
    "    for k in range(o,-1):\n",
    "        num=arr1[i]+arr2[j]+carry\n",
    "        if num>9:\n",
    "            num=num%10\n",
    "            carry=num/10\n",
    "        output[k]=num\n",
    "    return output\n",
    "arr1=[2,1,9,6]\n",
    "arr2=[3,1,4,7]\n",
    "output=[]\n",
    "sumOfTwoArrays(arr1, 4, arr2, 4, output)\n",
    "print(output)"
   ]
  },
  {
   "cell_type": "code",
   "execution_count": null,
   "metadata": {},
   "outputs": [],
   "source": []
  },
  {
   "cell_type": "code",
   "execution_count": null,
   "metadata": {},
   "outputs": [],
   "source": []
  }
 ],
 "metadata": {
  "kernelspec": {
   "display_name": "Python 3",
   "language": "python",
   "name": "python3"
  },
  "language_info": {
   "codemirror_mode": {
    "name": "ipython",
    "version": 3
   },
   "file_extension": ".py",
   "mimetype": "text/x-python",
   "name": "python",
   "nbconvert_exporter": "python",
   "pygments_lexer": "ipython3",
   "version": "3.8.5"
  }
 },
 "nbformat": 4,
 "nbformat_minor": 4
}
